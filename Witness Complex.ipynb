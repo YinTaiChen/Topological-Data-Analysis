{
 "cells": [
  {
   "cell_type": "markdown",
   "metadata": {},
   "source": [
    "# Implementing Witness Complex in Python"
   ]
  },
  {
   "cell_type": "markdown",
   "metadata": {},
   "source": [
    "Author: YinTaiChen"
   ]
  },
  {
   "cell_type": "markdown",
   "metadata": {},
   "source": [
    "Reference 1: https://www.researchgate.net/publication/248117036_Topological_estimation_using_witness_complexes"
   ]
  },
  {
   "cell_type": "markdown",
   "metadata": {},
   "source": [
    "Reference 2: http://gudhi.gforge.inria.fr/doc/latest/group__witness__complex.html"
   ]
  },
  {
   "cell_type": "markdown",
   "metadata": {},
   "source": [
    "Reference 3: https://github.com/YinTaiChen/Topological-Data-Analysis/blob/master/Dionysus%20Tutorial.ipynb"
   ]
  },
  {
   "cell_type": "markdown",
   "metadata": {},
   "source": [
    "![title](http://gudhi.gforge.inria.fr/doc/latest/Witness_complex_representation.png)"
   ]
  },
  {
   "cell_type": "markdown",
   "metadata": {},
   "source": [
    "## Definition"
   ]
  },
  {
   "cell_type": "markdown",
   "metadata": {},
   "source": [
    "Witness Complex is a simplicial complex defined on two sets of points in D-dimensional real-number space:"
   ]
  },
  {
   "cell_type": "markdown",
   "metadata": {},
   "source": [
    "* __W__ set of __witnesses__ and"
   ]
  },
  {
   "cell_type": "markdown",
   "metadata": {},
   "source": [
    "* __L__ set of __landmarks__."
   ]
  },
  {
   "cell_type": "markdown",
   "metadata": {},
   "source": [
    "Quite often the set of landmarks __L__ is a subset of the set of witnesses __W__."
   ]
  },
  {
   "cell_type": "markdown",
   "metadata": {},
   "source": [
    "Landmarks are the vertices of the simplicial complex and witnesses help to decide on which simplices are inserted via a predicate \"is witnessed\"."
   ]
  },
  {
   "cell_type": "markdown",
   "metadata": {},
   "source": [
    "## The Witness Complex Abstract Data Type"
   ]
  },
  {
   "cell_type": "markdown",
   "metadata": {},
   "source": [
    "The witness complex abstract data type is defined by the follwing structure and operations."
   ]
  },
  {
   "cell_type": "markdown",
   "metadata": {},
   "source": [
    "* __WitnessComplex(data, p_landmarks, p_witnesses, max_dim)__ creates a new witness complex."
   ]
  },
  {
   "cell_type": "markdown",
   "metadata": {},
   "source": [
    "* __sample_landmarks_and_witnesses()__ samples landmakrs and witnesses from the data points."
   ]
  },
  {
   "cell_type": "markdown",
   "metadata": {},
   "source": [
    "* __is_witnessed(compl)__ decides which simplex from compl to be inserted."
   ]
  },
  {
   "cell_type": "markdown",
   "metadata": {},
   "source": [
    "* __plot()__ plots the Witness Complex"
   ]
  },
  {
   "cell_type": "markdown",
   "metadata": {},
   "source": [
    "The following blocks show how I implement it."
   ]
  },
  {
   "cell_type": "code",
   "execution_count": 1,
   "metadata": {
    "collapsed": true
   },
   "outputs": [],
   "source": [
    "import numpy as np\n",
    "\n",
    "import matplotlib.pyplot as plt\n",
    "import matplotlib\n",
    "\n",
    "import seaborn as sns\n",
    "\n",
    "from scipy.spatial import distance, distance_matrix\n",
    "import itertools\n",
    "from collections import defaultdict"
   ]
  },
  {
   "cell_type": "code",
   "execution_count": 2,
   "metadata": {
    "collapsed": true
   },
   "outputs": [],
   "source": [
    "class WitnessComplex:\n",
    "    def __init__(self, data, p_landmarks, p_witnesses, max_dim=2):\n",
    "        self.data = data\n",
    "        self.p_landmarks = p_landmarks\n",
    "        self.p_witnesses = p_witnesses\n",
    "        self.max_dim = max_dim\n",
    "        \n",
    "        self.complex_list = []\n",
    "        self.witness_list = []\n",
    "        self.simplexes_dims = defaultdict(int)\n",
    "        \n",
    "        self.sample_landmarks_and_witnesses()\n",
    "        \n",
    "        for d in [0, 1, 2]:\n",
    "            for compl in itertools.combinations(self.landmarks, d+1):\n",
    "                self.simplexes_dims[d] += self.is_witnessed(compl)\n",
    "    \n",
    "    def sample_landmarks_and_witnesses(self):\n",
    "        data_index_list = np.arange(len(self.data))\n",
    "        landmark_sample_size = int(np.floor(self.p_landmarks * self.data.shape[0]))\n",
    "        witness_sample_size = int(np.floor(self.p_witnesses * self.data.shape[0]))\n",
    "        \n",
    "        landmark_idx = np.random.choice(data_index_list,\n",
    "                                        size = landmark_sample_size,\n",
    "                                        replace = False)\n",
    "        \n",
    "        data_index_list_minus_landmarks = np.setdiff1d(data_index_list,\n",
    "                                                       landmark_idx,\n",
    "                                                       assume_unique = True)\n",
    "        \n",
    "        witness_idx = np.random.choice(data_index_list_minus_landmarks,\n",
    "                                       size = witness_sample_size,\n",
    "                                       replace = False)\n",
    "        \n",
    "        self.landmarks = self.data[landmark_idx]\n",
    "        self.witnesses = self.data[witness_idx]\n",
    "        \n",
    "    def is_witnessed(self, compl):\n",
    "        used_landmarks = [x for x in self.landmarks\n",
    "                          if not (compl==x).all(axis=1).any()]\n",
    "        \n",
    "        for witness in self.witnesses:\n",
    "            lhs = distance_matrix(np.array([witness]), np.array(compl))\n",
    "            rhs = distance_matrix(np.array([witness]), used_landmarks)\n",
    "            if all(i - j <= 0 for i in lhs[0] for j in rhs[0]):\n",
    "                self.witness_list.append(witness)\n",
    "                self.complex_list.append(compl)\n",
    "                return True\n",
    "        return False\n",
    "    \n",
    "    def plot(self):        \n",
    "        if self.complex_list:\n",
    "            \n",
    "            self.complex_list = sorted(self.complex_list, key=lambda x: len(x), reverse=True)\n",
    "            \n",
    "            for compl in self.complex_list:\n",
    "                compl = np.array(compl)\n",
    "                dim = compl.shape[0]\n",
    "                if dim == 1:\n",
    "                    x = compl[0][0]\n",
    "                    y = compl[0][1]\n",
    "                    plt.plot(x, y, 'ro')\n",
    "                elif dim == 2:\n",
    "                    x = compl[:,0]\n",
    "                    y = compl[:,1]\n",
    "                    plt.plot(x, y, '-')\n",
    "                elif dim == 3:\n",
    "                    x = compl[:,0]\n",
    "                    y = compl[:,1]\n",
    "                    z = np.sin(x)+np.cos(y)\n",
    "                    plt.tripcolor(x, y, z)                   \n",
    "        plt.show()"
   ]
  },
  {
   "cell_type": "markdown",
   "metadata": {},
   "source": [
    "## And it works this way"
   ]
  },
  {
   "cell_type": "markdown",
   "metadata": {},
   "source": [
    "Create 100 random 2D ponts:"
   ]
  },
  {
   "cell_type": "code",
   "execution_count": 3,
   "metadata": {
    "collapsed": false
   },
   "outputs": [],
   "source": [
    "data = np.random.random((100, 2))"
   ]
  },
  {
   "cell_type": "markdown",
   "metadata": {},
   "source": [
    "Create a Witness Complex using the data and some parameters:"
   ]
  },
  {
   "cell_type": "code",
   "execution_count": 4,
   "metadata": {
    "collapsed": false
   },
   "outputs": [],
   "source": [
    "c = WitnessComplex(data, p_landmarks=0.20, p_witnesses=0.20)"
   ]
  },
  {
   "cell_type": "markdown",
   "metadata": {},
   "source": [
    "Plot the Witness Complex that we just created:"
   ]
  },
  {
   "cell_type": "code",
   "execution_count": 5,
   "metadata": {
    "collapsed": false
   },
   "outputs": [
    {
     "data": {
      "image/png": "[encoded data removed]",
      "text/plain": [
       "<matplotlib.figure.Figure at 0x27449ad4550>"
      ]
     },
     "metadata": {},
     "output_type": "display_data"
    }
   ],
   "source": [
    "c.plot()"
   ]
  },
  {
   "cell_type": "markdown",
   "metadata": {},
   "source": [
    "Check out the complexes in the complex list:"
   ]
  },
  {
   "cell_type": "code",
   "execution_count": 6,
   "metadata": {
    "collapsed": false
   },
   "outputs": [
    {
     "name": "stdout",
     "output_type": "stream",
     "text": [
      "(array([ 0.23321089,  0.89822702]), array([ 0.00293821,  0.5355044 ]), array([ 0.04338431,  0.85580779]))\n",
      "(array([ 0.84184436,  0.84850299]), array([ 0.76347071,  0.96928536]), array([ 0.82626644,  0.63472798]))\n",
      "(array([ 0.32851597,  0.02381194]), array([ 0.40841927,  0.22767935]), array([ 0.36296399,  0.32748802]))\n",
      "(array([ 0.60642187,  0.68271261]), array([ 0.82626644,  0.63472798]), array([ 0.36296399,  0.32748802]))\n",
      "(array([ 0.60642187,  0.68271261]), array([ 0.44805029,  0.84118377]), array([ 0.62201682,  0.88413196]))\n",
      "(array([ 0.11337972,  0.45786487]), array([ 0.00293821,  0.5355044 ]), array([ 0.22503983,  0.63436637]))\n",
      "(array([ 0.11337972,  0.45786487]), array([ 0.00293821,  0.5355044 ]), array([ 0.36296399,  0.32748802]))\n",
      "(array([ 0.82626644,  0.63472798]), array([ 0.72613474,  0.130187  ]), array([ 0.97545567,  0.03363093]))\n",
      "(array([ 0.82626644,  0.63472798]), array([ 0.72613474,  0.130187  ]), array([ 0.52535364,  0.18855419]))\n",
      "(array([ 0.4735303 ,  0.06121462]), array([ 0.72613474,  0.130187  ]), array([ 0.52535364,  0.18855419]))\n",
      "(array([ 0.4735303 ,  0.06121462]), array([ 0.49919105,  0.01243894]), array([ 0.52535364,  0.18855419]))\n",
      "(array([ 0.72613474,  0.130187  ]), array([ 0.97545567,  0.03363093]), array([ 0.52535364,  0.18855419]))\n",
      "(array([ 0.40841927,  0.22767935]), array([ 0.52535364,  0.18855419]), array([ 0.36296399,  0.32748802]))\n",
      "(array([ 0.84184436,  0.84850299]), array([ 0.82626644,  0.63472798]))\n",
      "(array([ 0.60642187,  0.68271261]), array([ 0.82626644,  0.63472798]))\n",
      "(array([ 0.11337972,  0.45786487]), array([ 0.00293821,  0.5355044 ]))\n",
      "(array([ 0.11337972,  0.45786487]), array([ 0.22503983,  0.63436637]))\n",
      "(array([ 0.82626644,  0.63472798]), array([ 0.72613474,  0.130187  ]))\n",
      "(array([ 0.82626644,  0.63472798]), array([ 0.52535364,  0.18855419]))\n",
      "(array([ 0.00293821,  0.5355044 ]), array([ 0.04338431,  0.85580779]))\n",
      "(array([ 0.00293821,  0.5355044 ]), array([ 0.22503983,  0.63436637]))\n",
      "(array([ 0.4735303 ,  0.06121462]), array([ 0.52535364,  0.18855419]))\n",
      "(array([ 0.72613474,  0.130187  ]), array([ 0.97545567,  0.03363093]))\n",
      "(array([ 0.72613474,  0.130187  ]), array([ 0.52535364,  0.18855419]))\n",
      "(array([ 0.40841927,  0.22767935]), array([ 0.36296399,  0.32748802]))\n",
      "(array([ 0.44805029,  0.84118377]), array([ 0.62201682,  0.88413196]))\n",
      "(array([ 0.84184436,  0.84850299]),)\n",
      "(array([ 0.60642187,  0.68271261]),)\n",
      "(array([ 0.11337972,  0.45786487]),)\n",
      "(array([ 0.82626644,  0.63472798]),)\n",
      "(array([ 0.04338431,  0.85580779]),)\n",
      "(array([ 0.72613474,  0.130187  ]),)\n",
      "(array([ 0.40841927,  0.22767935]),)\n",
      "(array([ 0.22503983,  0.63436637]),)\n",
      "(array([ 0.52535364,  0.18855419]),)\n",
      "(array([ 0.62201682,  0.88413196]),)\n",
      "(array([ 0.36296399,  0.32748802]),)\n"
     ]
    }
   ],
   "source": [
    "for compl in c.complex_list:\n",
    "    print(compl)"
   ]
  },
  {
   "cell_type": "markdown",
   "metadata": {},
   "source": [
    "Check out the witnesses in the witness list:"
   ]
  },
  {
   "cell_type": "code",
   "execution_count": 7,
   "metadata": {
    "collapsed": false
   },
   "outputs": [
    {
     "name": "stdout",
     "output_type": "stream",
     "text": [
      "[ 0.93976962  0.78203483]\n",
      "[ 0.64479454  0.50376949]\n",
      "[ 0.03927529  0.43300456]\n",
      "[ 0.81450869  0.37490934]\n",
      "[ 0.00140214  0.78489008]\n",
      "[ 0.72176325  0.22707928]\n",
      "[ 0.3920103   0.27203325]\n",
      "[ 0.15216427  0.66045959]\n",
      "[ 0.53868518  0.13283919]\n",
      "[ 0.60923079  0.86292846]\n",
      "[ 0.20361806  0.22760524]\n",
      "[ 0.93976962  0.78203483]\n",
      "[ 0.64479454  0.50376949]\n",
      "[ 0.03927529  0.43300456]\n",
      "[ 0.15532461  0.50219957]\n",
      "[ 0.88674061  0.33575317]\n",
      "[ 0.67010389  0.40431166]\n",
      "[ 0.00140214  0.78489008]\n",
      "[ 0.15216427  0.66045959]\n",
      "[ 0.53868518  0.13283919]\n",
      "[ 0.8214612   0.28807724]\n",
      "[ 0.72176325  0.22707928]\n",
      "[ 0.3920103   0.27203325]\n",
      "[ 0.60923079  0.86292846]\n",
      "[ 0.00140214  0.78489008]\n",
      "[ 0.93976962  0.78203483]\n",
      "[ 0.20361806  0.22760524]\n",
      "[ 0.64479454  0.50376949]\n",
      "[ 0.60923079  0.86292846]\n",
      "[ 0.03927529  0.43300456]\n",
      "[ 0.1443168   0.41307128]\n",
      "[ 0.88674061  0.33575317]\n",
      "[ 0.81450869  0.37490934]\n",
      "[ 0.72176325  0.22707928]\n",
      "[ 0.53868518  0.13283919]\n",
      "[ 0.8214612   0.28807724]\n",
      "[ 0.3920103   0.27203325]\n"
     ]
    }
   ],
   "source": [
    "for witness in c.witness_list:\n",
    "    print(witness)"
   ]
  }
 ],
 "metadata": {
  "kernelspec": {
   "display_name": "Python 3",
   "language": "python",
   "name": "python3"
  },
  "language_info": {
   "codemirror_mode": {
    "name": "ipython",
    "version": 3
   },
   "file_extension": ".py",
   "mimetype": "text/x-python",
   "name": "python",
   "nbconvert_exporter": "python",
   "pygments_lexer": "ipython3",
   "version": "3.6.0"
  }
 },
 "nbformat": 4,
 "nbformat_minor": 2
}
