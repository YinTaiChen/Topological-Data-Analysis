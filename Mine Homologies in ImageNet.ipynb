{
 "cells": [
  {
   "cell_type": "markdown",
   "metadata": {},
   "source": [
    "# Mine Homologies in ImageNet"
   ]
  },
  {
   "cell_type": "markdown",
   "metadata": {},
   "source": [
    "Author: YinTaiChen"
   ]
  },
  {
   "cell_type": "markdown",
   "metadata": {},
   "source": [
    "## Import packages"
   ]
  },
  {
   "cell_type": "code",
   "execution_count": 1,
   "metadata": {},
   "outputs": [],
   "source": [
    "import dionysus as d\n",
    "\n",
    "import numpy\n",
    "import random\n",
    "\n",
    "import torch\n",
    "import torchvision\n",
    "import torch.nn as nn\n",
    "import torch.utils.data as data\n",
    "import torchvision.transforms as transforms"
   ]
  },
  {
   "cell_type": "markdown",
   "metadata": {},
   "source": [
    "## Some parameters"
   ]
  },
  {
   "cell_type": "code",
   "execution_count": 2,
   "metadata": {
    "scrolled": true
   },
   "outputs": [],
   "source": [
    "N1 = 100\n",
    "N2 = 100\n",
    "DIMENSION = 4\n",
    "\n",
    "transform = transforms.Compose(\n",
    "    [transforms.Scale(size=(256,256)),\n",
    "     transforms.ToTensor(),\n",
    "     transforms.Normalize((0.5, 0.5, 0.5), (0.5, 0.5, 0.5))])"
   ]
  },
  {
   "cell_type": "markdown",
   "metadata": {},
   "source": [
    "## Get pretrained alexnet"
   ]
  },
  {
   "cell_type": "code",
   "execution_count": 3,
   "metadata": {},
   "outputs": [],
   "source": [
    "model = torchvision.models.alexnet(pretrained=True)\n",
    "mod = list(model.classifier.children())\n",
    "mod.pop()\n",
    "model.classifier = nn.Sequential(*mod)"
   ]
  },
  {
   "cell_type": "markdown",
   "metadata": {},
   "source": [
    "## Overwrite torch.utils.data.Dataset to randomly pick 20 images from each class"
   ]
  },
  {
   "cell_type": "code",
   "execution_count": 4,
   "metadata": {},
   "outputs": [],
   "source": [
    "def default_loader(path):\n",
    "    return Image.open(path).convert('RGB')\n",
    "\n",
    "def default_flist_reader(flist, classes):\n",
    "    \"\"\"\n",
    "    flist format: impath label\\nimpath label\\n ...(same to caffe's filelist)\n",
    "    \"\"\"\n",
    "    imlist = []\n",
    "    class_list = []\n",
    "    label = 0\n",
    "    with open(flist, 'r') as rf:\n",
    "        for i, line in enumerate(rf.readlines()):\n",
    "            impath, imlabel = line.strip().split()\n",
    "            if label == imlabel:\n",
    "                class_list.append( (impath, int(imlabel)) )\n",
    "            else:\n",
    "                imlist.append(class_list)\n",
    "                class_list = []\n",
    "                class_list.append( (impath, int(imlabel)) )\n",
    "                label += 1\n",
    "            if i == len(rf.readlines()) - 1:\n",
    "                class_list.append( (impath, int(imlabel)) )\n",
    "                imlist.append(class_list)\n",
    "                class_list = []\n",
    "    random_20_list = []\n",
    "    for c in classes:\n",
    "        for _ in range(20):\n",
    "            # randomly choose 20 images in that class\n",
    "            index = random.randint(0, len(imlist[c] - 1))\n",
    "            random_20_list.append(imlist[c][index])\n",
    "    return random_20_list\n",
    "\n",
    "class ImageFilelist(data.Dataset):\n",
    "    def __init__(self, root, flist, transform=None, target_transform=None,\n",
    "        flist_reader=default_flist_reader, loader=default_loader, classes=None):\n",
    "        self.root = root\n",
    "        self.imlist = flist_reader(flist, classes)\n",
    "        self.transform = transform\n",
    "        self.target_transform = target_transform\n",
    "        self.loader = loader\n",
    "\n",
    "    def __getitem__(self, index):\n",
    "        impath, target = self.imlist[index]\n",
    "        img = self.loader(os.path.join(self.root,impath))\n",
    "        if self.transform is not None:\n",
    "            img = self.transform(img)\n",
    "        if self.target_transform is not None:\n",
    "            target = self.target_transform(target)\n",
    "\n",
    "        return img, target\n",
    "\n",
    "    def __len__(self):\n",
    "        return len(self.imlist)"
   ]
  },
  {
   "cell_type": "markdown",
   "metadata": {},
   "source": [
    "## The algorithm"
   ]
  },
  {
   "cell_type": "code",
   "execution_count": null,
   "metadata": {},
   "outputs": [],
   "source": [
    "for alpha in range(N1):\n",
    "    classes = random.sample(range(0, 1000), 10)\n",
    "        \n",
    "    dataset = ImageFilelist(root=\"./data\", flist=\"dataset.txt\", transform=transform, classes=classes)\n",
    "    dataloader = torch.utils.data.DataLoader(trainset, batch_size=1, shuffle=False, num_workers=3)\n",
    "    feature_vectors = []\n",
    "    \n",
    "    for i, data in enumerate(dataloader):\n",
    "        input, label = data\n",
    "        input, label = Variable(input), Variable(label)\n",
    "        output = net(input)\n",
    "        feature_vectors.append(output.data.numpy())\n",
    "        \n",
    "    for beta in range(N2):\n",
    "        chosen_features = []\n",
    "        percent = random.randint(40, 60) / 100\n",
    "        \n",
    "        for _ in range(int(len(feature_vectors) * percent)):\n",
    "            index = random.randint(0, len(feature_vectors) - 1)\n",
    "            chosen_features.append(feature_vectors[index])\n",
    "            \n",
    "        min_dist_list = []\n",
    "        \n",
    "        for v in feature_vectors:\n",
    "            dist_list = []\n",
    "            \n",
    "            for w in chosen_features:\n",
    "                distance = numpy.linalg.norm(v-w)\n",
    "                dist_list.append(distance)\n",
    "                \n",
    "            min_dist_list.append(min(dist_list))\n",
    "            \n",
    "        RADIUS = max(min_dist_list)\n",
    "        f = d.fill_rips(chosen_features, DIMENSION, RADIUS)\n",
    "        with open ('javaplex_'+string(alpha)+'_'+string(beta)+'.m', 'w') as file:\n",
    "            pre_string = \"stream.addElement(\"\n",
    "            post_string = \");\\n\"\n",
    "            for s in f:\n",
    "                if len(s) == 1:\n",
    "                    middle_string = '['+str(s[0])+']'\n",
    "                elif len(s) == 2:\n",
    "                    middle_string = '['+str(s[0])+','+str(s[1])+']'\n",
    "                elif len(s) == 3:\n",
    "                    middle_string = '['+str(s[0])+','+str(s[1])+','+str(s[2])+']'\n",
    "                elif len(s) == 4:\n",
    "                    middle_string = '['+str(s[0])+','+str(s[1])+','+str(s[2])+','+str(s[3])+']'\n",
    "                file.write(pre_string+middle_string+post_string)"
   ]
  }
 ],
 "metadata": {
  "kernelspec": {
   "display_name": "Python 3",
   "language": "python",
   "name": "python3"
  },
  "language_info": {
   "codemirror_mode": {
    "name": "ipython",
    "version": 3
   },
   "file_extension": ".py",
   "mimetype": "text/x-python",
   "name": "python",
   "nbconvert_exporter": "python",
   "pygments_lexer": "ipython3",
   "version": "3.5.2"
  }
 },
 "nbformat": 4,
 "nbformat_minor": 2
}
